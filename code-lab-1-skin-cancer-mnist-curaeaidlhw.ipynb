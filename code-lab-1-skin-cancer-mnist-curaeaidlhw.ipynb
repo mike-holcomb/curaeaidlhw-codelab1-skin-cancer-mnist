{
 "cells": [
  {
   "cell_type": "markdown",
   "metadata": {},
   "source": [
    "Code Lab 1: Skin Cancer MNIST\n",
    "========================="
   ]
  },
  {
   "cell_type": "markdown",
   "metadata": {},
   "source": [
    "## The Problem"
   ]
  },
  {
   "cell_type": "markdown",
   "metadata": {},
   "source": [
    "From ISIC 2018: Skin Lesion Analysis Website [https://challenge2018.isic-archive.com]\n",
    "\n",
    "> Skin cancer is a major public health problem, with over 5,000,000 newly diagnosed cases in the United States every year. Melanoma is the deadliest form of skin cancer, responsible for an overwhelming majority of skin cancer deaths. In 2015, the global incidence of melanoma was estimated to be over 350,000 cases, with almost 60,000 deaths. Although the mortality is significant, when detected early, melanoma survival exceeds 95%.\n",
    "\n",
    "![skin-cancer-cover](imgs/skin-mnist-cover.png \"Examples of Skin Lesions\")"
   ]
  },
  {
   "cell_type": "markdown",
   "metadata": {},
   "source": [
    "## Imports"
   ]
  },
  {
   "cell_type": "code",
   "execution_count": 1,
   "metadata": {},
   "outputs": [],
   "source": [
    "from __future__ import print_function, division\n",
    "import numpy as np\n",
    "import matplotlib as mpl\n",
    "import matplotlib.pyplot as plt\n",
    "%matplotlib inline"
   ]
  },
  {
   "cell_type": "code",
   "execution_count": 2,
   "metadata": {},
   "outputs": [],
   "source": [
    "import os\n",
    "import pandas as pd\n",
    "from IPython.display import display, HTML"
   ]
  },
  {
   "cell_type": "markdown",
   "metadata": {},
   "source": [
    "Let's import Tensorflow now.  It is helpful after importing Tensorflow to check the version of the library installed since the API's are changing so quickly.  Several machines are now starting to use Tensorflow 2.0rc which has a very different interface from v1.* as well.  In preparation for TF 2.0, this tutorial will use the Eager Execution API, which is used by default in future version."
   ]
  },
  {
   "cell_type": "code",
   "execution_count": 3,
   "metadata": {},
   "outputs": [
    {
     "name": "stdout",
     "output_type": "stream",
     "text": [
      "Tensorflow version:  1.13.1\n",
      "Is GPU available: False\n",
      "Is Eager Execution enabled?: True\n"
     ]
    }
   ],
   "source": [
    "import tensorflow as tf\n",
    "tf.enable_eager_execution()\n",
    "\n",
    "tf.compat.v1.logging.set_verbosity(tf.compat.v1.logging.ERROR)\n",
    "print('Tensorflow version: ',tf.__version__)\n",
    "print('Is GPU available: %s' % str(tf.test.is_gpu_available()))\n",
    "print('Is Eager Execution enabled?: %s' % str(tf.executing_eagerly()))"
   ]
  },
  {
   "cell_type": "markdown",
   "metadata": {},
   "source": [
    "## Dataset"
   ]
  },
  {
   "cell_type": "markdown",
   "metadata": {},
   "source": [
    "### About HAM10000"
   ]
  },
  {
   "cell_type": "markdown",
   "metadata": {},
   "source": [
    "In this exercise will will be using  HAM10000 (\"Human Against Machine with 10000 training images\") dataset which is a collection of \"dermatoscopic images from different populations, acquired and stored by different modalities.\"[Kaggle](https://www.kaggle.com/kmader/skin-cancer-mnist-ham10000) This dataset has ~10K dermatoscopic images that have been reformatted to be similar smaller like the famous Handwritten Digit or MNIST dataset (64 x 64 images centered on the subject).  This allows us to focus on setting up our environment and making sure we can get a model working on a more interesting, healthcare-related problem."
   ]
  },
  {
   "cell_type": "markdown",
   "metadata": {},
   "source": [
    "### Load the dataset"
   ]
  },
  {
   "cell_type": "markdown",
   "metadata": {},
   "source": [
    "We will load both the included meta file as well as the image data (provided conveniently as a CSV file with one row per image."
   ]
  },
  {
   "cell_type": "code",
   "execution_count": 4,
   "metadata": {},
   "outputs": [],
   "source": [
    "IS_ONEPANEL = False\n",
    "NEED_DOWNLOAD = False\n",
    "if IS_ONEPANEL:\n",
    "    DATA_DIR='/onepanel/input'\n",
    "else:\n",
    "    import os\n",
    "    import load_data\n",
    "#     DATA_DIR = '/storage/codelab1'\n",
    "    DATA_DIR = 'data'\n",
    "    if NEED_DOWNLOAD:\n",
    "        if not os.path.exists(DATA_DIR):\n",
    "            os.mkdir(DATA_DIR)\n",
    "        FILELIST = ['HAM10000_metadata.csv','train.npz','val.npz']\n",
    "        load_data.download_files(FILELIST,DATA_DIR)"
   ]
  },
  {
   "cell_type": "code",
   "execution_count": 5,
   "metadata": {},
   "outputs": [],
   "source": [
    "meta_df = pd.read_csv(os.path.join(DATA_DIR,'HAM10000_metadata.csv'))\n",
    "train_data = np.load(os.path.join(DATA_DIR,'train.npz'))\n",
    "test_data = np.load(os.path.join(DATA_DIR,'val.npz'))"
   ]
  },
  {
   "cell_type": "markdown",
   "metadata": {},
   "source": [
    "### Inspect the meta data"
   ]
  },
  {
   "cell_type": "markdown",
   "metadata": {},
   "source": [
    "#### Lesions with multiple images"
   ]
  },
  {
   "cell_type": "markdown",
   "metadata": {},
   "source": [
    "For each image we have a `lesion_id` as well as a an `image_id`.  We should note that there are in fact multiple images for the same lesion which we need to be mindful of as we construct our training and testing splits.  While this has been accounted for in the pre-made splits, it is a potential leakage between the training and validation splits if the same patients were in both populations."
   ]
  },
  {
   "cell_type": "code",
   "execution_count": 9,
   "metadata": {},
   "outputs": [
    {
     "data": {
      "text/html": [
       "<div>\n",
       "<style scoped>\n",
       "    .dataframe tbody tr th:only-of-type {\n",
       "        vertical-align: middle;\n",
       "    }\n",
       "\n",
       "    .dataframe tbody tr th {\n",
       "        vertical-align: top;\n",
       "    }\n",
       "\n",
       "    .dataframe thead th {\n",
       "        text-align: right;\n",
       "    }\n",
       "</style>\n",
       "<table border=\"1\" class=\"dataframe\">\n",
       "  <thead>\n",
       "    <tr style=\"text-align: right;\">\n",
       "      <th></th>\n",
       "      <th>lesion_id</th>\n",
       "      <th>image_id</th>\n",
       "      <th>dx</th>\n",
       "      <th>dx_type</th>\n",
       "      <th>age</th>\n",
       "      <th>sex</th>\n",
       "      <th>localization</th>\n",
       "      <th>dupe</th>\n",
       "    </tr>\n",
       "  </thead>\n",
       "  <tbody>\n",
       "    <tr>\n",
       "      <td>0</td>\n",
       "      <td>HAM_0000118</td>\n",
       "      <td>ISIC_0027419</td>\n",
       "      <td>bkl</td>\n",
       "      <td>histo</td>\n",
       "      <td>80.0</td>\n",
       "      <td>male</td>\n",
       "      <td>scalp</td>\n",
       "      <td>True</td>\n",
       "    </tr>\n",
       "    <tr>\n",
       "      <td>1</td>\n",
       "      <td>HAM_0000118</td>\n",
       "      <td>ISIC_0025030</td>\n",
       "      <td>bkl</td>\n",
       "      <td>histo</td>\n",
       "      <td>80.0</td>\n",
       "      <td>male</td>\n",
       "      <td>scalp</td>\n",
       "      <td>True</td>\n",
       "    </tr>\n",
       "    <tr>\n",
       "      <td>2</td>\n",
       "      <td>HAM_0002730</td>\n",
       "      <td>ISIC_0026769</td>\n",
       "      <td>bkl</td>\n",
       "      <td>histo</td>\n",
       "      <td>80.0</td>\n",
       "      <td>male</td>\n",
       "      <td>scalp</td>\n",
       "      <td>True</td>\n",
       "    </tr>\n",
       "    <tr>\n",
       "      <td>3</td>\n",
       "      <td>HAM_0002730</td>\n",
       "      <td>ISIC_0025661</td>\n",
       "      <td>bkl</td>\n",
       "      <td>histo</td>\n",
       "      <td>80.0</td>\n",
       "      <td>male</td>\n",
       "      <td>scalp</td>\n",
       "      <td>True</td>\n",
       "    </tr>\n",
       "    <tr>\n",
       "      <td>4</td>\n",
       "      <td>HAM_0001466</td>\n",
       "      <td>ISIC_0031633</td>\n",
       "      <td>bkl</td>\n",
       "      <td>histo</td>\n",
       "      <td>75.0</td>\n",
       "      <td>male</td>\n",
       "      <td>ear</td>\n",
       "      <td>True</td>\n",
       "    </tr>\n",
       "  </tbody>\n",
       "</table>\n",
       "</div>"
      ],
      "text/plain": [
       "     lesion_id      image_id   dx dx_type   age   sex localization  dupe\n",
       "0  HAM_0000118  ISIC_0027419  bkl   histo  80.0  male        scalp  True\n",
       "1  HAM_0000118  ISIC_0025030  bkl   histo  80.0  male        scalp  True\n",
       "2  HAM_0002730  ISIC_0026769  bkl   histo  80.0  male        scalp  True\n",
       "3  HAM_0002730  ISIC_0025661  bkl   histo  80.0  male        scalp  True\n",
       "4  HAM_0001466  ISIC_0031633  bkl   histo  75.0  male          ear  True"
      ]
     },
     "execution_count": 9,
     "metadata": {},
     "output_type": "execute_result"
    }
   ],
   "source": [
    "meta_df.head()"
   ]
  },
  {
   "cell_type": "markdown",
   "metadata": {},
   "source": [
    "Below, we count the occurrences of a lesion_id, accumulate the lesions ids with more than 1 image and then add a flag to our original meta_df to indicate whether the lesion has more than one image in the dataset."
   ]
  },
  {
   "cell_type": "code",
   "execution_count": 10,
   "metadata": {},
   "outputs": [],
   "source": [
    "def pretty_count_print(series):\n",
    "    display(pd.DataFrame(series.value_counts()))"
   ]
  },
  {
   "cell_type": "code",
   "execution_count": 11,
   "metadata": {},
   "outputs": [
    {
     "data": {
      "text/html": [
       "<div>\n",
       "<style scoped>\n",
       "    .dataframe tbody tr th:only-of-type {\n",
       "        vertical-align: middle;\n",
       "    }\n",
       "\n",
       "    .dataframe tbody tr th {\n",
       "        vertical-align: top;\n",
       "    }\n",
       "\n",
       "    .dataframe thead th {\n",
       "        text-align: right;\n",
       "    }\n",
       "</style>\n",
       "<table border=\"1\" class=\"dataframe\">\n",
       "  <thead>\n",
       "    <tr style=\"text-align: right;\">\n",
       "      <th></th>\n",
       "      <th>dupe</th>\n",
       "    </tr>\n",
       "  </thead>\n",
       "  <tbody>\n",
       "    <tr>\n",
       "      <td>False</td>\n",
       "      <td>5514</td>\n",
       "    </tr>\n",
       "    <tr>\n",
       "      <td>True</td>\n",
       "      <td>4501</td>\n",
       "    </tr>\n",
       "  </tbody>\n",
       "</table>\n",
       "</div>"
      ],
      "text/plain": [
       "       dupe\n",
       "False  5514\n",
       "True   4501"
      ]
     },
     "metadata": {},
     "output_type": "display_data"
    }
   ],
   "source": [
    "lesion_image_counts = pd.DataFrame( meta_df.groupby('lesion_id')['image_id'].count())\n",
    "dupe_lesion_ids = list(lesion_image_counts[lesion_image_counts['image_id'] > 1].index.values)\n",
    "meta_df['dupe'] = meta_df.apply(lambda row: row['lesion_id'] in dupe_lesion_ids, axis=1)\n",
    "pretty_count_print(meta_df['dupe'])"
   ]
  },
  {
   "cell_type": "markdown",
   "metadata": {},
   "source": [
    "### Classes"
   ]
  },
  {
   "cell_type": "markdown",
   "metadata": {},
   "source": [
    "The dataset contains 7 classes of lesions, a mixture of both benign and cancerous types.  The dataset is overweight to benign melanocytic nevi, a harmless mole.  However, there are over 2,000 examples of cancerous lesions to detect in this dataset.\n",
    "\n",
    "\n",
    "| Id |Abbr | Name |\n",
    "|---|---|---|\n",
    "| 4 | nv | Melanocytic nevi |\n",
    "| 6 | mel | Melanoma |\n",
    "| 2 | bkl | Benign keratosis-like lesion |\n",
    "| 1 | bcc | Basal cell carcinoma |\n",
    "| 0 | akiec |  Actinic keratoses |\n",
    "| 5 | vasc | Vascular lesions (angiomas, etc.) |\n",
    "| 3 | df | Dermatofibroma |"
   ]
  },
  {
   "cell_type": "code",
   "execution_count": 12,
   "metadata": {},
   "outputs": [
    {
     "data": {
      "text/html": [
       "<div>\n",
       "<style scoped>\n",
       "    .dataframe tbody tr th:only-of-type {\n",
       "        vertical-align: middle;\n",
       "    }\n",
       "\n",
       "    .dataframe tbody tr th {\n",
       "        vertical-align: top;\n",
       "    }\n",
       "\n",
       "    .dataframe thead th {\n",
       "        text-align: right;\n",
       "    }\n",
       "</style>\n",
       "<table border=\"1\" class=\"dataframe\">\n",
       "  <thead>\n",
       "    <tr style=\"text-align: right;\">\n",
       "      <th></th>\n",
       "      <th>dx</th>\n",
       "    </tr>\n",
       "  </thead>\n",
       "  <tbody>\n",
       "    <tr>\n",
       "      <td>nv</td>\n",
       "      <td>6705</td>\n",
       "    </tr>\n",
       "    <tr>\n",
       "      <td>mel</td>\n",
       "      <td>1113</td>\n",
       "    </tr>\n",
       "    <tr>\n",
       "      <td>bkl</td>\n",
       "      <td>1099</td>\n",
       "    </tr>\n",
       "    <tr>\n",
       "      <td>bcc</td>\n",
       "      <td>514</td>\n",
       "    </tr>\n",
       "    <tr>\n",
       "      <td>akiec</td>\n",
       "      <td>327</td>\n",
       "    </tr>\n",
       "    <tr>\n",
       "      <td>vasc</td>\n",
       "      <td>142</td>\n",
       "    </tr>\n",
       "    <tr>\n",
       "      <td>df</td>\n",
       "      <td>115</td>\n",
       "    </tr>\n",
       "  </tbody>\n",
       "</table>\n",
       "</div>"
      ],
      "text/plain": [
       "         dx\n",
       "nv     6705\n",
       "mel    1113\n",
       "bkl    1099\n",
       "bcc     514\n",
       "akiec   327\n",
       "vasc    142\n",
       "df      115"
      ]
     },
     "metadata": {},
     "output_type": "display_data"
    }
   ],
   "source": [
    "class_list = ['akiec','bcc','bkl','df','mel','nv','vasc']\n",
    "pretty_count_print(meta_df['dx'])"
   ]
  },
  {
   "cell_type": "markdown",
   "metadata": {},
   "source": [
    "Let's gather examples of each class to inspect visually."
   ]
  },
  {
   "cell_type": "code",
   "execution_count": 13,
   "metadata": {},
   "outputs": [
    {
     "data": {
      "text/plain": [
       "{'akiec': 0,\n",
       " 'df': 301,\n",
       " 'bkl': 410,\n",
       " 'vasc': 1434,\n",
       " 'nv': 1565,\n",
       " 'bcc': 7519,\n",
       " 'mel': 8003}"
      ]
     },
     "metadata": {},
     "output_type": "display_data"
    }
   ],
   "source": [
    "example_list = {}\n",
    "class_names = ['akiec', 'df', 'bkl', 'vasc', 'nv', 'bcc', 'mel']\n",
    "for cls in range(7):\n",
    "    example_list[class_names[cls]] = np.nonzero(train_data['labels'] == cls)[0][0]\n",
    "display(example_list)"
   ]
  },
  {
   "cell_type": "code",
   "execution_count": 14,
   "metadata": {},
   "outputs": [
    {
     "data": {
      "image/png": "[encoded data removed]",
      "text/plain": [
       "<Figure size 1440x1440 with 7 Axes>"
      ]
     },
     "metadata": {
      "needs_background": "light"
     },
     "output_type": "display_data"
    }
   ],
   "source": [
    "fig, ax = plt.subplots(4,2, figsize=(20,20))\n",
    "fig.delaxes(ax[3,1]) # Delete the extra plot\n",
    "for i, (key, value) in enumerate(example_list.items()):\n",
    "    ax[i//2,i%2].title.set_text(key)\n",
    "    ax[i//2,i%2].imshow(train_data['images'][value])"
   ]
  },
  {
   "cell_type": "markdown",
   "metadata": {},
   "source": [
    "### Prepare the data"
   ]
  },
  {
   "cell_type": "markdown",
   "metadata": {},
   "source": [
    "For this step we will split the dataset into two parts: 1) a training set on which the parameters of the neural network model will be learning, 2) a held-out evaluation set that we will use to score the performance of our model.  Also we will preprocess our data and build functions for feeding our data to our model according to the Eager Execution API."
   ]
  },
  {
   "cell_type": "markdown",
   "metadata": {},
   "source": [
    "#### Train/Test Split"
   ]
  },
  {
   "cell_type": "markdown",
   "metadata": {},
   "source": [
    "We have already created a 90/10 split for the test set."
   ]
  },
  {
   "cell_type": "markdown",
   "metadata": {},
   "source": [
    "#### Preprocessing"
   ]
  },
  {
   "cell_type": "markdown",
   "metadata": {},
   "source": [
    "Uniquely with toy datasets like this one, there is not much in the way of preprocessing to accomplish.  We will simply scale the 8-bit color values normalizing the per-channel mean and variance.  It is common practice to only calculate these statistics only on the training population, but use the same normalization parameters for both populations during preprocessing."
   ]
  },
  {
   "cell_type": "code",
   "execution_count": 34,
   "metadata": {},
   "outputs": [
    {
     "name": "stdout",
     "output_type": "stream",
     "text": [
      "Channel mean: [193.70557095 137.91040133 144.01527852]\n",
      "Channel std: [35.38412952 40.65661319 45.484523  ]\n",
      "Processed color range: -5.474 to 2.880\n"
     ]
    }
   ],
   "source": [
    "channel_mean = np.mean(train_data['images'],axis=(0,1,2))\n",
    "\n",
    "channel_std = np.std(train_data['images'],axis=(0,1,2))\n",
    "\n",
    "print(\"Channel mean: %s\" % str(channel_mean))\n",
    "print(\"Channel std: %s\" % str(channel_std))\n",
    "\n",
    "train_x = (train_data['images'] - channel_mean) / channel_std\n",
    "test_x = (test_data['images'] - channel_mean) / channel_std\n",
    "print(\"Processed color range: %0.3f to %0.3f\" % (np.min(train_x),np.max(train_x)))"
   ]
  },
  {
   "cell_type": "markdown",
   "metadata": {},
   "source": [
    "Given the imbalance of the dataset and the low resolution that we are using for demonstration purposes, we will confine ourselves to the binary classification problem of whether a lesion is a Nevus or not a Nevus.  Unfortunately there is a higher proporation of nevi in the test set."
   ]
  },
  {
   "cell_type": "code",
   "execution_count": 37,
   "metadata": {},
   "outputs": [],
   "source": [
    "train_y = np.where(train_data['labels']==4,1,0).reshape(-1,1).astype(np.float32)\n",
    "test_y = np.where(test_data['labels']==4,1,0).reshape(-1,1).astype(np.float32)"
   ]
  },
  {
   "cell_type": "code",
   "execution_count": 38,
   "metadata": {},
   "outputs": [
    {
     "name": "stdout",
     "output_type": "stream",
     "text": [
      "Proportion of nevi in train: 65.59% vs test: 80.06%\n"
     ]
    }
   ],
   "source": [
    "print(\"Proportion of nevi in train: %0.2f%% vs test: %0.2f%%\" \n",
    "      % (np.mean(train_y)*100., np.mean(test_y) *100))"
   ]
  },
  {
   "cell_type": "markdown",
   "metadata": {},
   "source": [
    "One last check before proceeding, let's check the data types and sizes of our input data."
   ]
  },
  {
   "cell_type": "code",
   "execution_count": 39,
   "metadata": {},
   "outputs": [
    {
     "name": "stdout",
     "output_type": "stream",
     "text": [
      "(9077, 64, 64, 3) float64 (9077, 1) float32\n",
      "(938, 64, 64, 3) float64 (938, 1) float32\n"
     ]
    }
   ],
   "source": [
    "print(train_x.shape, train_x.dtype, train_y.shape, train_y.dtype)\n",
    "print(test_x.shape, test_x.dtype, test_y.shape, test_y.dtype)"
   ]
  },
  {
   "cell_type": "markdown",
   "metadata": {},
   "source": [
    "#### Data Loading functions"
   ]
  },
  {
   "cell_type": "markdown",
   "metadata": {},
   "source": [
    "These functions will load all of the data into the device memory in a format that the Eager Execution API works well when the data provided is via `tf.data.Dataset` which helps create an interable collection of tensors."
   ]
  },
  {
   "cell_type": "code",
   "execution_count": 115,
   "metadata": {},
   "outputs": [],
   "source": [
    "BATCH_SIZE=64"
   ]
  },
  {
   "cell_type": "code",
   "execution_count": 144,
   "metadata": {},
   "outputs": [],
   "source": [
    "def augment(images, labels):\n",
    "    images = tf.image.random_flip_left_right(images)\n",
    "    images = tf.image.random_flip_up_down(images)\n",
    "    return images, labels"
   ]
  },
  {
   "cell_type": "code",
   "execution_count": 145,
   "metadata": {},
   "outputs": [],
   "source": [
    "train_dataset = tf.data.Dataset.from_tensor_slices((train_x,train_y))\n",
    "train_dataset = train_dataset.map(augment).shuffle(2000).batch(BATCH_SIZE)"
   ]
  },
  {
   "cell_type": "code",
   "execution_count": 146,
   "metadata": {},
   "outputs": [],
   "source": [
    "test_dataset = tf.data.Dataset.from_tensor_slices((test_x,test_y))\n",
    "test_dataset = test_dataset.batch(BATCH_SIZE)"
   ]
  },
  {
   "cell_type": "markdown",
   "metadata": {},
   "source": [
    "## Model"
   ]
  },
  {
   "cell_type": "markdown",
   "metadata": {},
   "source": [
    "Now we will construct the model using the modular Keras API, which will become the preferred method for building models in Tensorflow 2.0.  Specifically we will create a new model class that subclasses `tf.keras.Model` to incorporate our model design.  This helps with organizing the state of our graph as well as helps make models easier to replicate."
   ]
  },
  {
   "cell_type": "code",
   "execution_count": 147,
   "metadata": {},
   "outputs": [],
   "source": [
    "import tensorflow.keras as keras\n",
    "from tensorflow.keras.models import Model, Sequential\n",
    "from tensorflow.keras.layers import Dense, Dropout, Flatten\n",
    "from tensorflow.keras.layers import Conv2D, MaxPooling2D, GlobalAveragePooling2D\n",
    "from tensorflow.keras.initializers import he_normal\n",
    "from tensorflow.keras.activations import sigmoid, softmax"
   ]
  },
  {
   "cell_type": "markdown",
   "metadata": {},
   "source": [
    "### Design Parameters"
   ]
  },
  {
   "cell_type": "markdown",
   "metadata": {},
   "source": [
    "There are a number of parameters required when building the model.  Below, we collect the parameters required in the model in the `model_design_params` nested dictionary.  The structure of the dictionary largely follows the design of the `VGG` like model that we will use to detect whether a lesion is a nevus or not."
   ]
  },
  {
   "cell_type": "code",
   "execution_count": 148,
   "metadata": {},
   "outputs": [],
   "source": [
    "model_design_params = {\n",
    "    'blocks' : {\n",
    "         'conv2d': {\n",
    "             'kernel_size': 3,\n",
    "             'strides': 1,\n",
    "             'padding':'same',\n",
    "             'activation':'relu',\n",
    "          },\n",
    "         'pooling': {\n",
    "             'pool_size': 2,\n",
    "             'strides': 2,\n",
    "          },\n",
    "         'dropout': 0.25,\n",
    "     },\n",
    "     'head' : {\n",
    "         'affine' : {\n",
    "             'units': 512,\n",
    "             'activation': 'relu',\n",
    "         },\n",
    "         'dropout': 0.3,\n",
    "          'logits' : {\n",
    "             'units': 1,\n",
    "             'activation': None,\n",
    "         },   \n",
    "     }\n",
    "}"
   ]
  },
  {
   "cell_type": "markdown",
   "metadata": {},
   "source": [
    "### Model Definition"
   ]
  },
  {
   "cell_type": "code",
   "execution_count": 149,
   "metadata": {},
   "outputs": [],
   "source": [
    "class VGGStyleBlock(Model):\n",
    "    def __init__(self, filters, params):\n",
    "        super(VGGStyleBlock, self).__init__()\n",
    "        self.conv1 =  Conv2D(filters, **params['conv2d']) # +2 RF\n",
    "        self.conv2 =  Conv2D(filters, **params['conv2d']) # +2 RF\n",
    "        self.maxpool = MaxPooling2D(**params['pooling']) # 2x+1 RF\n",
    "        self.dropout = Dropout(params['dropout'])\n",
    "        self.sequential =   Sequential([self.conv1,\n",
    "                                        self.conv2,\n",
    "                                        self.maxpool,\n",
    "                                        self.dropout]) # put it all together\n",
    "    def call(self, x):\n",
    "        return self.sequential(x)"
   ]
  },
  {
   "cell_type": "code",
   "execution_count": 150,
   "metadata": {},
   "outputs": [],
   "source": [
    "class NevusCNNClassifier(Model):\n",
    "  '''\n",
    "  This is our class that we will use to define our model.\n",
    "  '''\n",
    "  def __init__(self,params):\n",
    "    super(NevusCNNClassifier, self).__init__()\n",
    "    \n",
    "    # Block 1: 64x64x3 -> 32x32x32\n",
    "    self.block1 = VGGStyleBlock(32,model_design_params['blocks'])\n",
    "    \n",
    "    # Block 2: 32x32x32 -> 16x16x64\n",
    "    self.block2 = VGGStyleBlock(64,model_design_params['blocks'])\n",
    "    \n",
    "    # Block 3: 16x16x64 -> 8x8x128\n",
    "    self.block3 = VGGStyleBlock(128,model_design_params['blocks'])\n",
    "\n",
    "    # Features 8x8x128 -> 128 vector representations\n",
    "    self.gap =      GlobalAveragePooling2D()\n",
    "    self.features = Sequential([self.block1,\n",
    "                                self.block2,\n",
    "                                self.block3,\n",
    "                                self.gap])\n",
    "    \n",
    "    # Head\n",
    "    self.affine =   Dense(**params['head']['affine'])\n",
    "    self.head_dropout = Dropout(params['head']['dropout'])\n",
    "    self.logits =   Dense(**params['head']['logits'])\n",
    "    self.head =     Sequential([self.affine,\n",
    "                                self.head_dropout, \n",
    "                                self.logits])\n",
    "    \n",
    "  def call(self, x):\n",
    "    x = self.features(x)\n",
    "    logits = self.head(x)\n",
    "    probability  = sigmoid(logits)\n",
    "    return logits, probability"
   ]
  },
  {
   "cell_type": "code",
   "execution_count": 151,
   "metadata": {},
   "outputs": [],
   "source": [
    "# Create an instance of the model\n",
    "model = NevusCNNClassifier(model_design_params)"
   ]
  },
  {
   "cell_type": "markdown",
   "metadata": {},
   "source": [
    "Now that we've constructed the models.  Let's inspect the models now.  Keras comes with two handy built-in features for inspecting models.  Specfically, `model.summary()` and `keras.utils.plot_model`."
   ]
  },
  {
   "cell_type": "code",
   "execution_count": 152,
   "metadata": {},
   "outputs": [
    {
     "name": "stdout",
     "output_type": "stream",
     "text": [
      "_________________________________________________________________\n",
      "Layer (type)                 Output Shape              Param #   \n",
      "=================================================================\n",
      "vgg_style_block_78 (VGGStyle multiple                  20288     \n",
      "_________________________________________________________________\n",
      "vgg_style_block_79 (VGGStyle multiple                  110848    \n",
      "_________________________________________________________________\n",
      "vgg_style_block_80 (VGGStyle multiple                  442880    \n",
      "_________________________________________________________________\n",
      "global_average_pooling2d_30  multiple                  0         \n",
      "=================================================================\n",
      "Total params: 287,008\n",
      "Trainable params: 287,008\n",
      "Non-trainable params: 0\n",
      "_________________________________________________________________\n"
     ]
    }
   ],
   "source": [
    "tmp = NevusCNNClassifier(model_design_params)\n",
    "tmp.build((1,64,64,3))\n",
    "tmp.features.summary()"
   ]
  },
  {
   "cell_type": "code",
   "execution_count": 153,
   "metadata": {},
   "outputs": [
    {
     "name": "stdout",
     "output_type": "stream",
     "text": [
      "_________________________________________________________________\n",
      "Layer (type)                 Output Shape              Param #   \n",
      "=================================================================\n",
      "dense_58 (Dense)             multiple                  66048     \n",
      "_________________________________________________________________\n",
      "dropout_118 (Dropout)        multiple                  0         \n",
      "_________________________________________________________________\n",
      "dense_59 (Dense)             multiple                  513       \n",
      "=================================================================\n",
      "Total params: 66,561\n",
      "Trainable params: 66,561\n",
      "Non-trainable params: 0\n",
      "_________________________________________________________________\n"
     ]
    }
   ],
   "source": [
    "tmp.head.summary()"
   ]
  },
  {
   "cell_type": "markdown",
   "metadata": {},
   "source": [
    "## Train"
   ]
  },
  {
   "cell_type": "markdown",
   "metadata": {},
   "source": [
    "TALK ABOUT TENSORBOARD AND ALL OF THE THINGS ESTIMATOR GIVES YOU FOR FREE"
   ]
  },
  {
   "cell_type": "markdown",
   "metadata": {},
   "source": [
    "### Training Setup"
   ]
  },
  {
   "cell_type": "code",
   "execution_count": 154,
   "metadata": {},
   "outputs": [],
   "source": [
    "LEARNING_RATE = 1.e-3\n",
    "CLIPVALUE = 1.\n",
    "EPOCHS = 10"
   ]
  },
  {
   "cell_type": "markdown",
   "metadata": {},
   "source": [
    "#### Loss Function"
   ]
  },
  {
   "cell_type": "code",
   "execution_count": 155,
   "metadata": {},
   "outputs": [],
   "source": [
    "# optimizer = tf.train.MomentumOptimizerOptimizer(learning_rate=LEARNING_RATE,momentum=0.9)\n",
    "optimizer = tf.train.AdamOptimizer(learning_rate=LEARNING_RATE)\n",
    "loss_function = tf.losses.sigmoid_cross_entropy"
   ]
  },
  {
   "cell_type": "markdown",
   "metadata": {},
   "source": [
    "#### Performance Metrics"
   ]
  },
  {
   "cell_type": "code",
   "execution_count": 156,
   "metadata": {},
   "outputs": [],
   "source": [
    "train_loss = tf.keras.metrics.Mean(name='train_loss')\n",
    "train_accuracy = tf.keras.metrics.BinaryAccuracy(name='train_accuracy')\n",
    "\n",
    "test_loss = tf.keras.metrics.Mean(name='test_loss')\n",
    "test_accuracy = tf.keras.metrics.BinaryAccuracy(name='test_accuracy')"
   ]
  },
  {
   "cell_type": "markdown",
   "metadata": {},
   "source": [
    "#### Training Step"
   ]
  },
  {
   "cell_type": "code",
   "execution_count": 157,
   "metadata": {},
   "outputs": [],
   "source": [
    "def train_step(images, labels):\n",
    "  with tf.GradientTape() as tape:\n",
    "    logits, probability = model(images)\n",
    "    loss = loss_function(labels, logits)\n",
    "  gradients = tape.gradient(loss, model.trainable_variables)\n",
    "  optimizer.apply_gradients(zip(gradients, model.trainable_variables))\n",
    "\n",
    "  train_loss(loss)\n",
    "  train_accuracy(labels, probability)"
   ]
  },
  {
   "cell_type": "code",
   "execution_count": 158,
   "metadata": {},
   "outputs": [
    {
     "name": "stdout",
     "output_type": "stream",
     "text": [
      "0.6868259906768799 82.8125\n",
      "2.5739669799804688 80.46875\n",
      "1.9355674982070923 76.5625\n",
      "1.6239393949508667 73.046875\n",
      "1.4358197450637817 72.8125\n",
      "1.3100863695144653 72.13542175292969\n",
      "1.2200987339019775 71.20536041259766\n",
      "1.1530778408050537 69.7265625\n",
      "1.099979281425476 69.09722137451172\n",
      "1.0577448606491089 68.28125\n"
     ]
    }
   ],
   "source": [
    "for image, label in train_dataset.take(10):\n",
    "    train_step(image,label)\n",
    "    print(\"{} {}\".format(train_loss.result(),\n",
    "                    train_accuracy.result()*100))"
   ]
  },
  {
   "cell_type": "markdown",
   "metadata": {},
   "source": [
    "#### Evaluation Step"
   ]
  },
  {
   "cell_type": "code",
   "execution_count": 159,
   "metadata": {},
   "outputs": [],
   "source": [
    "def test_step(images, labels):\n",
    "  logits, probability = model(images)\n",
    "  t_loss = loss_function(labels, logits)\n",
    "\n",
    "  test_loss(t_loss)\n",
    "  test_accuracy(labels, probability)"
   ]
  },
  {
   "cell_type": "code",
   "execution_count": 160,
   "metadata": {},
   "outputs": [
    {
     "name": "stdout",
     "output_type": "stream",
     "text": [
      "0.6274549961090088 82.8125\n"
     ]
    }
   ],
   "source": [
    "for image, label in train_dataset.take(1):\n",
    "    test_step(image,label)\n",
    "    print(\"{} {}\".format(test_loss.result(),\n",
    "                    test_accuracy.result()*100))"
   ]
  },
  {
   "cell_type": "markdown",
   "metadata": {},
   "source": [
    "#### Training Loop"
   ]
  },
  {
   "cell_type": "code",
   "execution_count": null,
   "metadata": {},
   "outputs": [
    {
     "name": "stdout",
     "output_type": "stream",
     "text": [
      "0.7261689901351929 65.625\n",
      "0.5854226350784302 72.0535659790039\n"
     ]
    }
   ],
   "source": [
    "for epoch in range(EPOCHS):\n",
    "  step = 0\n",
    "  for images, labels in train_dataset:\n",
    "    train_step(images, labels)\n",
    "    if step % 30 == 29:\n",
    "        print(\"Step {}: {} {}\".format(step, train_loss.result(),\n",
    "                            train_accuracy.result()*100))\n",
    "    step += 1\n",
    "\n",
    "  for test_images, test_labels in test_dataset:\n",
    "    test_step(test_images, test_labels)\n",
    "\n",
    "  template = 'Epoch {}, Loss: {}, Accuracy: {}, Test Loss: {}, Test Accuracy: {}'\n",
    "  print(template.format(epoch+1,\n",
    "                        train_loss.result(),\n",
    "                        train_accuracy.result()*100,\n",
    "                        test_loss.result(),\n",
    "                        test_accuracy.result()*100))\n",
    "\n",
    "  # Reset the metrics for the next epoch\n",
    "  train_loss.reset_states()\n",
    "  train_accuracy.reset_states()\n",
    "  test_loss.reset_states()\n",
    "  test_accuracy.reset_states()"
   ]
  },
  {
   "cell_type": "markdown",
   "metadata": {},
   "source": [
    "## Evaluation"
   ]
  },
  {
   "cell_type": "markdown",
   "metadata": {},
   "source": [
    "### Score the Model"
   ]
  },
  {
   "cell_type": "code",
   "execution_count": null,
   "metadata": {},
   "outputs": [],
   "source": [
    "eval_results = ham_classifier.evaluate(input_fn=test_input_fn)\n",
    "print(eval_results)"
   ]
  },
  {
   "cell_type": "markdown",
   "metadata": {},
   "source": [
    "### Inspect Predictions"
   ]
  },
  {
   "cell_type": "markdown",
   "metadata": {},
   "source": [
    "### Inspect feature vector"
   ]
  },
  {
   "cell_type": "code",
   "execution_count": null,
   "metadata": {},
   "outputs": [],
   "source": [
    "'a'"
   ]
  },
  {
   "cell_type": "code",
   "execution_count": null,
   "metadata": {},
   "outputs": [],
   "source": []
  }
 ],
 "metadata": {
  "@webio": {
   "lastCommId": null,
   "lastKernelId": null
  },
  "kernelspec": {
   "display_name": "codelab1",
   "language": "python",
   "name": "codelab1"
  },
  "language_info": {
   "codemirror_mode": {
    "name": "ipython",
    "version": 3
   },
   "file_extension": ".py",
   "mimetype": "text/x-python",
   "name": "python",
   "nbconvert_exporter": "python",
   "pygments_lexer": "ipython3",
   "version": "3.7.3"
  },
  "toc": {
   "base_numbering": 1,
   "nav_menu": {},
   "number_sections": true,
   "sideBar": true,
   "skip_h1_title": true,
   "title_cell": "Table of Contents",
   "title_sidebar": "Contents",
   "toc_cell": false,
   "toc_position": {},
   "toc_section_display": true,
   "toc_window_display": true
  }
 },
 "nbformat": 4,
 "nbformat_minor": 2
}
